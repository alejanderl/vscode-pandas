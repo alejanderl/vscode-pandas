{
 "cells": [
  {
   "cell_type": "code",
   "execution_count": 2,
   "metadata": {},
   "outputs": [
    {
     "name": "stdout",
     "output_type": "stream",
     "text": [
      "[[1 2]\n",
      " [3 4]]\n"
     ]
    }
   ],
   "source": [
    "import pandas as pd\n",
    "\n",
    "import numpy as np\n",
    "my_array = np.array([1,2,3,4])\n",
    "b = np.array([[1,2], [3,4]])\n",
    "\n",
    "size = my_array.shape\n",
    "re_shape = my_array.reshape((2,2))\n",
    "print(re_shape)\n",
    "hola = 'caracola'\n",
    "\n"
   ]
  },
  {
   "cell_type": "code",
   "execution_count": 13,
   "metadata": {},
   "outputs": [],
   "source": [
    "np.zeros((5,))\n",
    "np.ones((2,4))\n",
    "np.ones((2,4,8))\n",
    "np.ones((2,4,8,16))\n",
    "a = np.arange(12).reshape((3,4))\n",
    "a100 = (100 + a)\n",
    "a**2\n",
    "\n",
    "serie = pd.Series([1,2,3,4,5])\n",
    "approval = pd.read_csv(\"./tmp/gwbush-approval.csv\", sep=\"\\t\", nrows=10)\n"
   ]
  }
 ],
 "metadata": {
  "kernelspec": {
   "display_name": "base",
   "language": "python",
   "name": "python3"
  },
  "language_info": {
   "codemirror_mode": {
    "name": "ipython",
    "version": 3
   },
   "file_extension": ".py",
   "mimetype": "text/x-python",
   "name": "python",
   "nbconvert_exporter": "python",
   "pygments_lexer": "ipython3",
   "version": "3.11.7"
  }
 },
 "nbformat": 4,
 "nbformat_minor": 2
}
